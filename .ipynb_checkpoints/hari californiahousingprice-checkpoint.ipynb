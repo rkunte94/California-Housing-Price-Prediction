{
 "cells": [
  {
   "cell_type": "code",
   "execution_count": 4,
   "metadata": {},
   "outputs": [],
   "source": [
    "import pandas as pd"
   ]
  },
  {
   "cell_type": "code",
   "execution_count": 5,
   "metadata": {},
   "outputs": [],
   "source": [
    "import numpy as np"
   ]
  },
  {
   "cell_type": "code",
   "execution_count": 6,
   "metadata": {},
   "outputs": [],
   "source": [
    "data = pd.read_excel(\"housing.xlsx\")"
   ]
  },
  {
   "cell_type": "code",
   "execution_count": 7,
   "metadata": {},
   "outputs": [
    {
     "data": {
      "text/html": [
       "<div>\n",
       "<style scoped>\n",
       "    .dataframe tbody tr th:only-of-type {\n",
       "        vertical-align: middle;\n",
       "    }\n",
       "\n",
       "    .dataframe tbody tr th {\n",
       "        vertical-align: top;\n",
       "    }\n",
       "\n",
       "    .dataframe thead th {\n",
       "        text-align: right;\n",
       "    }\n",
       "</style>\n",
       "<table border=\"1\" class=\"dataframe\">\n",
       "  <thead>\n",
       "    <tr style=\"text-align: right;\">\n",
       "      <th></th>\n",
       "      <th>longitude</th>\n",
       "      <th>latitude</th>\n",
       "      <th>housing_median_age</th>\n",
       "      <th>total_rooms</th>\n",
       "      <th>total_bedrooms</th>\n",
       "      <th>population</th>\n",
       "      <th>households</th>\n",
       "      <th>median_income</th>\n",
       "      <th>ocean_proximity</th>\n",
       "      <th>median_house_value</th>\n",
       "    </tr>\n",
       "  </thead>\n",
       "  <tbody>\n",
       "    <tr>\n",
       "      <th>0</th>\n",
       "      <td>-122.23</td>\n",
       "      <td>37.88</td>\n",
       "      <td>41</td>\n",
       "      <td>880</td>\n",
       "      <td>129.0</td>\n",
       "      <td>322</td>\n",
       "      <td>126</td>\n",
       "      <td>8.3252</td>\n",
       "      <td>NEAR BAY</td>\n",
       "      <td>452600</td>\n",
       "    </tr>\n",
       "    <tr>\n",
       "      <th>1</th>\n",
       "      <td>-122.22</td>\n",
       "      <td>37.86</td>\n",
       "      <td>21</td>\n",
       "      <td>7099</td>\n",
       "      <td>1106.0</td>\n",
       "      <td>2401</td>\n",
       "      <td>1138</td>\n",
       "      <td>8.3014</td>\n",
       "      <td>NEAR BAY</td>\n",
       "      <td>358500</td>\n",
       "    </tr>\n",
       "    <tr>\n",
       "      <th>2</th>\n",
       "      <td>-122.24</td>\n",
       "      <td>37.85</td>\n",
       "      <td>52</td>\n",
       "      <td>1467</td>\n",
       "      <td>190.0</td>\n",
       "      <td>496</td>\n",
       "      <td>177</td>\n",
       "      <td>7.2574</td>\n",
       "      <td>NEAR BAY</td>\n",
       "      <td>352100</td>\n",
       "    </tr>\n",
       "    <tr>\n",
       "      <th>3</th>\n",
       "      <td>-122.25</td>\n",
       "      <td>37.85</td>\n",
       "      <td>52</td>\n",
       "      <td>1274</td>\n",
       "      <td>235.0</td>\n",
       "      <td>558</td>\n",
       "      <td>219</td>\n",
       "      <td>5.6431</td>\n",
       "      <td>NEAR BAY</td>\n",
       "      <td>341300</td>\n",
       "    </tr>\n",
       "    <tr>\n",
       "      <th>4</th>\n",
       "      <td>-122.25</td>\n",
       "      <td>37.85</td>\n",
       "      <td>52</td>\n",
       "      <td>1627</td>\n",
       "      <td>280.0</td>\n",
       "      <td>565</td>\n",
       "      <td>259</td>\n",
       "      <td>3.8462</td>\n",
       "      <td>NEAR BAY</td>\n",
       "      <td>342200</td>\n",
       "    </tr>\n",
       "  </tbody>\n",
       "</table>\n",
       "</div>"
      ],
      "text/plain": [
       "   longitude  latitude  housing_median_age  total_rooms  total_bedrooms  \\\n",
       "0    -122.23     37.88                  41          880           129.0   \n",
       "1    -122.22     37.86                  21         7099          1106.0   \n",
       "2    -122.24     37.85                  52         1467           190.0   \n",
       "3    -122.25     37.85                  52         1274           235.0   \n",
       "4    -122.25     37.85                  52         1627           280.0   \n",
       "\n",
       "   population  households  median_income ocean_proximity  median_house_value  \n",
       "0         322         126         8.3252        NEAR BAY              452600  \n",
       "1        2401        1138         8.3014        NEAR BAY              358500  \n",
       "2         496         177         7.2574        NEAR BAY              352100  \n",
       "3         558         219         5.6431        NEAR BAY              341300  \n",
       "4         565         259         3.8462        NEAR BAY              342200  "
      ]
     },
     "execution_count": 7,
     "metadata": {},
     "output_type": "execute_result"
    }
   ],
   "source": [
    "#get the top 5 rows using head()\n",
    "data.head()"
   ]
  },
  {
   "cell_type": "code",
   "execution_count": 8,
   "metadata": {},
   "outputs": [
    {
     "name": "stdout",
     "output_type": "stream",
     "text": [
      "<class 'pandas.core.frame.DataFrame'>\n",
      "RangeIndex: 20640 entries, 0 to 20639\n",
      "Data columns (total 10 columns):\n",
      "longitude             20640 non-null float64\n",
      "latitude              20640 non-null float64\n",
      "housing_median_age    20640 non-null int64\n",
      "total_rooms           20640 non-null int64\n",
      "total_bedrooms        20433 non-null float64\n",
      "population            20640 non-null int64\n",
      "households            20640 non-null int64\n",
      "median_income         20640 non-null float64\n",
      "ocean_proximity       20640 non-null object\n",
      "median_house_value    20640 non-null int64\n",
      "dtypes: float64(4), int64(5), object(1)\n",
      "memory usage: 1.6+ MB\n"
     ]
    }
   ],
   "source": [
    "#To check for any missing or Nan values , we need to use info(). Here , total no of entries is 20640 but we have only 20433 entries for total_bedrooms\n",
    "data.info()"
   ]
  },
  {
   "cell_type": "code",
   "execution_count": 9,
   "metadata": {},
   "outputs": [
    {
     "data": {
      "text/plain": [
       "longitude               0\n",
       "latitude                0\n",
       "housing_median_age      0\n",
       "total_rooms             0\n",
       "total_bedrooms        207\n",
       "population              0\n",
       "households              0\n",
       "median_income           0\n",
       "ocean_proximity         0\n",
       "median_house_value      0\n",
       "dtype: int64"
      ]
     },
     "execution_count": 9,
     "metadata": {},
     "output_type": "execute_result"
    }
   ],
   "source": [
    "#to find the missing or Nan values for each column. We have 207 Nan values for total_bedrooms column \n",
    "data.isna().sum()"
   ]
  },
  {
   "cell_type": "code",
   "execution_count": 10,
   "metadata": {},
   "outputs": [],
   "source": [
    "#We need to replace the 207 Nan values with the mean of the column , inplace= True means the replacement will be permanent.\n",
    "data.total_bedrooms.fillna(int(data.total_bedrooms.mean()) , inplace=True)"
   ]
  },
  {
   "cell_type": "code",
   "execution_count": 11,
   "metadata": {},
   "outputs": [
    {
     "data": {
      "text/plain": [
       "longitude             0\n",
       "latitude              0\n",
       "housing_median_age    0\n",
       "total_rooms           0\n",
       "total_bedrooms        0\n",
       "population            0\n",
       "households            0\n",
       "median_income         0\n",
       "ocean_proximity       0\n",
       "median_house_value    0\n",
       "dtype: int64"
      ]
     },
     "execution_count": 11,
     "metadata": {},
     "output_type": "execute_result"
    }
   ],
   "source": [
    "#We found out that there are no Nan values in total_bedrooms column now\n",
    "data.isna().sum()"
   ]
  },
  {
   "cell_type": "code",
   "execution_count": 12,
   "metadata": {},
   "outputs": [
    {
     "data": {
      "text/html": [
       "<div>\n",
       "<style scoped>\n",
       "    .dataframe tbody tr th:only-of-type {\n",
       "        vertical-align: middle;\n",
       "    }\n",
       "\n",
       "    .dataframe tbody tr th {\n",
       "        vertical-align: top;\n",
       "    }\n",
       "\n",
       "    .dataframe thead th {\n",
       "        text-align: right;\n",
       "    }\n",
       "</style>\n",
       "<table border=\"1\" class=\"dataframe\">\n",
       "  <thead>\n",
       "    <tr style=\"text-align: right;\">\n",
       "      <th></th>\n",
       "      <th>longitude</th>\n",
       "      <th>latitude</th>\n",
       "      <th>housing_median_age</th>\n",
       "      <th>total_rooms</th>\n",
       "      <th>total_bedrooms</th>\n",
       "      <th>population</th>\n",
       "      <th>households</th>\n",
       "      <th>median_income</th>\n",
       "      <th>median_house_value</th>\n",
       "    </tr>\n",
       "  </thead>\n",
       "  <tbody>\n",
       "    <tr>\n",
       "      <th>count</th>\n",
       "      <td>20640.000000</td>\n",
       "      <td>20640.000000</td>\n",
       "      <td>20640.000000</td>\n",
       "      <td>20640.000000</td>\n",
       "      <td>20640.000000</td>\n",
       "      <td>20640.000000</td>\n",
       "      <td>20640.000000</td>\n",
       "      <td>20640.000000</td>\n",
       "      <td>20640.000000</td>\n",
       "    </tr>\n",
       "    <tr>\n",
       "      <th>mean</th>\n",
       "      <td>-119.569704</td>\n",
       "      <td>35.631861</td>\n",
       "      <td>28.639486</td>\n",
       "      <td>2635.763081</td>\n",
       "      <td>537.861822</td>\n",
       "      <td>1425.476744</td>\n",
       "      <td>499.539680</td>\n",
       "      <td>3.870671</td>\n",
       "      <td>206855.816909</td>\n",
       "    </tr>\n",
       "    <tr>\n",
       "      <th>std</th>\n",
       "      <td>2.003532</td>\n",
       "      <td>2.135952</td>\n",
       "      <td>12.585558</td>\n",
       "      <td>2181.615252</td>\n",
       "      <td>419.266601</td>\n",
       "      <td>1132.462122</td>\n",
       "      <td>382.329753</td>\n",
       "      <td>1.899822</td>\n",
       "      <td>115395.615874</td>\n",
       "    </tr>\n",
       "    <tr>\n",
       "      <th>min</th>\n",
       "      <td>-124.350000</td>\n",
       "      <td>32.540000</td>\n",
       "      <td>1.000000</td>\n",
       "      <td>2.000000</td>\n",
       "      <td>1.000000</td>\n",
       "      <td>3.000000</td>\n",
       "      <td>1.000000</td>\n",
       "      <td>0.499900</td>\n",
       "      <td>14999.000000</td>\n",
       "    </tr>\n",
       "    <tr>\n",
       "      <th>25%</th>\n",
       "      <td>-121.800000</td>\n",
       "      <td>33.930000</td>\n",
       "      <td>18.000000</td>\n",
       "      <td>1447.750000</td>\n",
       "      <td>297.000000</td>\n",
       "      <td>787.000000</td>\n",
       "      <td>280.000000</td>\n",
       "      <td>2.563400</td>\n",
       "      <td>119600.000000</td>\n",
       "    </tr>\n",
       "    <tr>\n",
       "      <th>50%</th>\n",
       "      <td>-118.490000</td>\n",
       "      <td>34.260000</td>\n",
       "      <td>29.000000</td>\n",
       "      <td>2127.000000</td>\n",
       "      <td>438.000000</td>\n",
       "      <td>1166.000000</td>\n",
       "      <td>409.000000</td>\n",
       "      <td>3.534800</td>\n",
       "      <td>179700.000000</td>\n",
       "    </tr>\n",
       "    <tr>\n",
       "      <th>75%</th>\n",
       "      <td>-118.010000</td>\n",
       "      <td>37.710000</td>\n",
       "      <td>37.000000</td>\n",
       "      <td>3148.000000</td>\n",
       "      <td>643.250000</td>\n",
       "      <td>1725.000000</td>\n",
       "      <td>605.000000</td>\n",
       "      <td>4.743250</td>\n",
       "      <td>264725.000000</td>\n",
       "    </tr>\n",
       "    <tr>\n",
       "      <th>max</th>\n",
       "      <td>-114.310000</td>\n",
       "      <td>41.950000</td>\n",
       "      <td>52.000000</td>\n",
       "      <td>39320.000000</td>\n",
       "      <td>6445.000000</td>\n",
       "      <td>35682.000000</td>\n",
       "      <td>6082.000000</td>\n",
       "      <td>15.000100</td>\n",
       "      <td>500001.000000</td>\n",
       "    </tr>\n",
       "  </tbody>\n",
       "</table>\n",
       "</div>"
      ],
      "text/plain": [
       "          longitude      latitude  housing_median_age   total_rooms  \\\n",
       "count  20640.000000  20640.000000        20640.000000  20640.000000   \n",
       "mean    -119.569704     35.631861           28.639486   2635.763081   \n",
       "std        2.003532      2.135952           12.585558   2181.615252   \n",
       "min     -124.350000     32.540000            1.000000      2.000000   \n",
       "25%     -121.800000     33.930000           18.000000   1447.750000   \n",
       "50%     -118.490000     34.260000           29.000000   2127.000000   \n",
       "75%     -118.010000     37.710000           37.000000   3148.000000   \n",
       "max     -114.310000     41.950000           52.000000  39320.000000   \n",
       "\n",
       "       total_bedrooms    population    households  median_income  \\\n",
       "count    20640.000000  20640.000000  20640.000000   20640.000000   \n",
       "mean       537.861822   1425.476744    499.539680       3.870671   \n",
       "std        419.266601   1132.462122    382.329753       1.899822   \n",
       "min          1.000000      3.000000      1.000000       0.499900   \n",
       "25%        297.000000    787.000000    280.000000       2.563400   \n",
       "50%        438.000000   1166.000000    409.000000       3.534800   \n",
       "75%        643.250000   1725.000000    605.000000       4.743250   \n",
       "max       6445.000000  35682.000000   6082.000000      15.000100   \n",
       "\n",
       "       median_house_value  \n",
       "count        20640.000000  \n",
       "mean        206855.816909  \n",
       "std         115395.615874  \n",
       "min          14999.000000  \n",
       "25%         119600.000000  \n",
       "50%         179700.000000  \n",
       "75%         264725.000000  \n",
       "max         500001.000000  "
      ]
     },
     "execution_count": 12,
     "metadata": {},
     "output_type": "execute_result"
    }
   ],
   "source": [
    "#We use describe function to find any outliers , outliers are present if there is any significant difference between 50% and mean for each column\n",
    "data.describe()"
   ]
  },
  {
   "cell_type": "code",
   "execution_count": 13,
   "metadata": {},
   "outputs": [
    {
     "data": {
      "text/plain": [
       "<matplotlib.axes._subplots.AxesSubplot at 0x7f2b1485fb38>"
      ]
     },
     "execution_count": 13,
     "metadata": {},
     "output_type": "execute_result"
    },
    {
     "data": {
      "image/png": "[encoded data removed]",
      "text/plain": [
       "<Figure size 432x288 with 1 Axes>"
      ]
     },
     "metadata": {
      "needs_background": "light"
     },
     "output_type": "display_data"
    }
   ],
   "source": [
    "#total_rooms column has a normal distribution as shown below, there are no outliers\n",
    "import seaborn as sns\n",
    "%matplotlib inline\n",
    "sns.distplot(data.total_rooms)"
   ]
  },
  {
   "cell_type": "code",
   "execution_count": 14,
   "metadata": {},
   "outputs": [
    {
     "data": {
      "text/plain": [
       "<matplotlib.axes._subplots.AxesSubplot at 0x7f2b10149748>"
      ]
     },
     "execution_count": 14,
     "metadata": {},
     "output_type": "execute_result"
    },
    {
     "data": {
      "image/png": "[encoded data removed]",
      "text/plain": [
       "<Figure size 432x288 with 1 Axes>"
      ]
     },
     "metadata": {
      "needs_background": "light"
     },
     "output_type": "display_data"
    }
   ],
   "source": [
    "#total_bedrooms column has a normal distribution as shown below, there are no outliers\n",
    "sns.distplot(data.total_bedrooms)"
   ]
  },
  {
   "cell_type": "code",
   "execution_count": 15,
   "metadata": {},
   "outputs": [
    {
     "data": {
      "text/plain": [
       "<matplotlib.axes._subplots.AxesSubplot at 0x7f2b0ffd3198>"
      ]
     },
     "execution_count": 15,
     "metadata": {},
     "output_type": "execute_result"
    },
    {
     "data": {
      "image/png": "[encoded data removed]",
      "text/plain": [
       "<Figure size 432x288 with 1 Axes>"
      ]
     },
     "metadata": {
      "needs_background": "light"
     },
     "output_type": "display_data"
    }
   ],
   "source": [
    "#population column has a normal distribution as shown below, there are no outliers\n",
    "sns.distplot(data.population)"
   ]
  },
  {
   "cell_type": "code",
   "execution_count": 16,
   "metadata": {},
   "outputs": [
    {
     "data": {
      "text/plain": [
       "<matplotlib.axes._subplots.AxesSubplot at 0x7f2b0ff994a8>"
      ]
     },
     "execution_count": 16,
     "metadata": {},
     "output_type": "execute_result"
    },
    {
     "data": {
      "image/png": "[encoded data removed]",
      "text/plain": [
       "<Figure size 432x288 with 1 Axes>"
      ]
     },
     "metadata": {
      "needs_background": "light"
     },
     "output_type": "display_data"
    }
   ],
   "source": [
    "#households column has a normal distribution as shown below, there are no outliers\n",
    "sns.distplot(data.households)"
   ]
  },
  {
   "cell_type": "code",
   "execution_count": 17,
   "metadata": {},
   "outputs": [
    {
     "data": {
      "text/plain": [
       "<matplotlib.axes._subplots.AxesSubplot at 0x7f2b0fe1cda0>"
      ]
     },
     "execution_count": 17,
     "metadata": {},
     "output_type": "execute_result"
    },
    {
     "data": {
      "image/png": "[encoded data removed]",
      "text/plain": [
       "<Figure size 432x288 with 1 Axes>"
      ]
     },
     "metadata": {
      "needs_background": "light"
     },
     "output_type": "display_data"
    }
   ],
   "source": [
    "#median house value  column does not have a normal distribution as shown below, there are outliers\n",
    "sns.distplot(data.median_house_value)"
   ]
  },
  {
   "cell_type": "code",
   "execution_count": 18,
   "metadata": {},
   "outputs": [],
   "source": [
    "#To remove Outlier we can use 1.5 IQR Rule\n",
    "def outlierDetection(datacolumn):\n",
    "    #Sort the data in ascending order\n",
    "    sorted(datacolumn)\n",
    "    \n",
    "    #GET Q1 and Q3\n",
    "    Q1,Q3 = np.percentile(datacolumn, [25,75])\n",
    "    \n",
    "    #Calc IQR\n",
    "    IQR = Q3 - Q1\n",
    "    \n",
    "    #Calc LowerRange\n",
    "    lr = Q1 - (1.5 * IQR)\n",
    "    \n",
    "    #Calc Upper Range\n",
    "    ur = Q3 + (1.5 * IQR)\n",
    "    \n",
    "    return lr,ur"
   ]
  },
  {
   "cell_type": "code",
   "execution_count": 19,
   "metadata": {},
   "outputs": [],
   "source": [
    "lowerRange,upperRange = outlierDetection(data.median_house_value)"
   ]
  },
  {
   "cell_type": "code",
   "execution_count": 20,
   "metadata": {},
   "outputs": [],
   "source": [
    "data.drop(data[(data.median_house_value > upperRange) | (data.median_house_value < lowerRange)].index , inplace=True)"
   ]
  },
  {
   "cell_type": "code",
   "execution_count": 21,
   "metadata": {},
   "outputs": [
    {
     "data": {
      "text/plain": [
       "<matplotlib.axes._subplots.AxesSubplot at 0x7f2b0fd6c5f8>"
      ]
     },
     "execution_count": 21,
     "metadata": {},
     "output_type": "execute_result"
    },
    {
     "data": {
      "image/png": "[encoded data removed]",
      "text/plain": [
       "<Figure size 432x288 with 1 Axes>"
      ]
     },
     "metadata": {
      "needs_background": "light"
     },
     "output_type": "display_data"
    }
   ],
   "source": [
    "#Median house value outlier is removed as shown below\n",
    "sns.distplot(data.median_house_value)"
   ]
  },
  {
   "cell_type": "code",
   "execution_count": null,
   "metadata": {},
   "outputs": [],
   "source": []
  },
  {
   "cell_type": "code",
   "execution_count": 22,
   "metadata": {},
   "outputs": [
    {
     "data": {
      "text/plain": [
       "\"Index(['longitude', 'latitude', 'housing_median_age', 'total_rooms',\\n       'total_bedrooms', 'population', 'households', 'median_income',\\n       'ocean_proximity', 'median_house_value'],\\n      dtype='object')\""
      ]
     },
     "execution_count": 22,
     "metadata": {},
     "output_type": "execute_result"
    }
   ],
   "source": [
    "#Shows the total columns\n",
    "format(data.columns)"
   ]
  },
  {
   "cell_type": "code",
   "execution_count": 23,
   "metadata": {},
   "outputs": [
    {
     "name": "stdout",
     "output_type": "stream",
     "text": [
      "   longitude  latitude  housing_median_age  total_rooms  total_bedrooms  \\\n",
      "0    -122.23     37.88                  41          880           129.0   \n",
      "1    -122.22     37.86                  21         7099          1106.0   \n",
      "2    -122.24     37.85                  52         1467           190.0   \n",
      "3    -122.25     37.85                  52         1274           235.0   \n",
      "4    -122.25     37.85                  52         1627           280.0   \n",
      "\n",
      "   population  households  median_income ocean_proximity  median_house_value  \n",
      "0         322         126         8.3252        NEAR BAY              452600  \n",
      "1        2401        1138         8.3014        NEAR BAY              358500  \n",
      "2         496         177         7.2574        NEAR BAY              352100  \n",
      "3         558         219         5.6431        NEAR BAY              341300  \n",
      "4         565         259         3.8462        NEAR BAY              342200  \n"
     ]
    }
   ],
   "source": [
    "print(data.head())"
   ]
  },
  {
   "cell_type": "code",
   "execution_count": 24,
   "metadata": {},
   "outputs": [
    {
     "name": "stdout",
     "output_type": "stream",
     "text": [
      "<1H OCEAN     8552\n",
      "INLAND        6519\n",
      "NEAR OCEAN    2419\n",
      "NEAR BAY      2074\n",
      "ISLAND           5\n",
      "Name: ocean_proximity, dtype: int64\n"
     ]
    }
   ],
   "source": [
    "#Print the different values of ocean proximity column and its count\n",
    "print(data[\"ocean_proximity\"].value_counts())\n"
   ]
  },
  {
   "cell_type": "code",
   "execution_count": 25,
   "metadata": {},
   "outputs": [],
   "source": [
    "#Label encoder is used so that ocean proximity is converted from categorical to numerical\n",
    "from sklearn.preprocessing import LabelEncoder\n",
    "labelEncoder = LabelEncoder()\n",
    "data[\"ocean_proximity\"] = labelEncoder.fit_transform(data[\"ocean_proximity\"])\n"
   ]
  },
  {
   "cell_type": "code",
   "execution_count": 26,
   "metadata": {},
   "outputs": [
    {
     "data": {
      "text/plain": [
       "0    8552\n",
       "1    6519\n",
       "4    2419\n",
       "3    2074\n",
       "2       5\n",
       "Name: ocean_proximity, dtype: int64"
      ]
     },
     "execution_count": 26,
     "metadata": {},
     "output_type": "execute_result"
    }
   ],
   "source": [
    "data[\"ocean_proximity\"].value_counts()"
   ]
  },
  {
   "cell_type": "code",
   "execution_count": 32,
   "metadata": {},
   "outputs": [
    {
     "data": {
      "text/html": [
       "<div>\n",
       "<style scoped>\n",
       "    .dataframe tbody tr th:only-of-type {\n",
       "        vertical-align: middle;\n",
       "    }\n",
       "\n",
       "    .dataframe tbody tr th {\n",
       "        vertical-align: top;\n",
       "    }\n",
       "\n",
       "    .dataframe thead th {\n",
       "        text-align: right;\n",
       "    }\n",
       "</style>\n",
       "<table border=\"1\" class=\"dataframe\">\n",
       "  <thead>\n",
       "    <tr style=\"text-align: right;\">\n",
       "      <th></th>\n",
       "      <th>longitude</th>\n",
       "      <th>latitude</th>\n",
       "      <th>housing_median_age</th>\n",
       "      <th>total_rooms</th>\n",
       "      <th>total_bedrooms</th>\n",
       "      <th>population</th>\n",
       "      <th>households</th>\n",
       "      <th>median_income</th>\n",
       "      <th>ocean_proximity</th>\n",
       "      <th>median_house_value</th>\n",
       "    </tr>\n",
       "  </thead>\n",
       "  <tbody>\n",
       "    <tr>\n",
       "      <th>count</th>\n",
       "      <td>19569.000000</td>\n",
       "      <td>19569.000000</td>\n",
       "      <td>19569.000000</td>\n",
       "      <td>19569.000000</td>\n",
       "      <td>19569.000000</td>\n",
       "      <td>19569.000000</td>\n",
       "      <td>19569.000000</td>\n",
       "      <td>19569.000000</td>\n",
       "      <td>19569.000000</td>\n",
       "      <td>19569.000000</td>\n",
       "    </tr>\n",
       "    <tr>\n",
       "      <th>mean</th>\n",
       "      <td>-119.562786</td>\n",
       "      <td>35.654159</td>\n",
       "      <td>28.352752</td>\n",
       "      <td>2619.977260</td>\n",
       "      <td>539.863764</td>\n",
       "      <td>1442.788952</td>\n",
       "      <td>501.394859</td>\n",
       "      <td>3.665568</td>\n",
       "      <td>1.146047</td>\n",
       "      <td>190852.301906</td>\n",
       "    </tr>\n",
       "    <tr>\n",
       "      <th>std</th>\n",
       "      <td>2.005764</td>\n",
       "      <td>2.151007</td>\n",
       "      <td>12.497772</td>\n",
       "      <td>2183.419302</td>\n",
       "      <td>420.484873</td>\n",
       "      <td>1145.011369</td>\n",
       "      <td>383.396308</td>\n",
       "      <td>1.557927</td>\n",
       "      <td>1.397320</td>\n",
       "      <td>95438.555669</td>\n",
       "    </tr>\n",
       "    <tr>\n",
       "      <th>min</th>\n",
       "      <td>-124.350000</td>\n",
       "      <td>32.540000</td>\n",
       "      <td>1.000000</td>\n",
       "      <td>2.000000</td>\n",
       "      <td>2.000000</td>\n",
       "      <td>3.000000</td>\n",
       "      <td>2.000000</td>\n",
       "      <td>0.499900</td>\n",
       "      <td>0.000000</td>\n",
       "      <td>14999.000000</td>\n",
       "    </tr>\n",
       "    <tr>\n",
       "      <th>25%</th>\n",
       "      <td>-121.760000</td>\n",
       "      <td>33.930000</td>\n",
       "      <td>18.000000</td>\n",
       "      <td>1438.000000</td>\n",
       "      <td>299.000000</td>\n",
       "      <td>797.000000</td>\n",
       "      <td>282.000000</td>\n",
       "      <td>2.522700</td>\n",
       "      <td>0.000000</td>\n",
       "      <td>116200.000000</td>\n",
       "    </tr>\n",
       "    <tr>\n",
       "      <th>50%</th>\n",
       "      <td>-118.510000</td>\n",
       "      <td>34.270000</td>\n",
       "      <td>28.000000</td>\n",
       "      <td>2110.000000</td>\n",
       "      <td>440.000000</td>\n",
       "      <td>1181.000000</td>\n",
       "      <td>411.000000</td>\n",
       "      <td>3.441200</td>\n",
       "      <td>1.000000</td>\n",
       "      <td>173200.000000</td>\n",
       "    </tr>\n",
       "    <tr>\n",
       "      <th>75%</th>\n",
       "      <td>-117.990000</td>\n",
       "      <td>37.730000</td>\n",
       "      <td>37.000000</td>\n",
       "      <td>3123.000000</td>\n",
       "      <td>645.000000</td>\n",
       "      <td>1749.000000</td>\n",
       "      <td>606.000000</td>\n",
       "      <td>4.572100</td>\n",
       "      <td>1.000000</td>\n",
       "      <td>246700.000000</td>\n",
       "    </tr>\n",
       "    <tr>\n",
       "      <th>max</th>\n",
       "      <td>-114.310000</td>\n",
       "      <td>41.950000</td>\n",
       "      <td>52.000000</td>\n",
       "      <td>39320.000000</td>\n",
       "      <td>6445.000000</td>\n",
       "      <td>35682.000000</td>\n",
       "      <td>6082.000000</td>\n",
       "      <td>15.000100</td>\n",
       "      <td>4.000000</td>\n",
       "      <td>482200.000000</td>\n",
       "    </tr>\n",
       "  </tbody>\n",
       "</table>\n",
       "</div>"
      ],
      "text/plain": [
       "          longitude      latitude  housing_median_age   total_rooms  \\\n",
       "count  19569.000000  19569.000000        19569.000000  19569.000000   \n",
       "mean    -119.562786     35.654159           28.352752   2619.977260   \n",
       "std        2.005764      2.151007           12.497772   2183.419302   \n",
       "min     -124.350000     32.540000            1.000000      2.000000   \n",
       "25%     -121.760000     33.930000           18.000000   1438.000000   \n",
       "50%     -118.510000     34.270000           28.000000   2110.000000   \n",
       "75%     -117.990000     37.730000           37.000000   3123.000000   \n",
       "max     -114.310000     41.950000           52.000000  39320.000000   \n",
       "\n",
       "       total_bedrooms    population    households  median_income  \\\n",
       "count    19569.000000  19569.000000  19569.000000   19569.000000   \n",
       "mean       539.863764   1442.788952    501.394859       3.665568   \n",
       "std        420.484873   1145.011369    383.396308       1.557927   \n",
       "min          2.000000      3.000000      2.000000       0.499900   \n",
       "25%        299.000000    797.000000    282.000000       2.522700   \n",
       "50%        440.000000   1181.000000    411.000000       3.441200   \n",
       "75%        645.000000   1749.000000    606.000000       4.572100   \n",
       "max       6445.000000  35682.000000   6082.000000      15.000100   \n",
       "\n",
       "       ocean_proximity  median_house_value  \n",
       "count     19569.000000        19569.000000  \n",
       "mean          1.146047       190852.301906  \n",
       "std           1.397320        95438.555669  \n",
       "min           0.000000        14999.000000  \n",
       "25%           0.000000       116200.000000  \n",
       "50%           1.000000       173200.000000  \n",
       "75%           1.000000       246700.000000  \n",
       "max           4.000000       482200.000000  "
      ]
     },
     "execution_count": 32,
     "metadata": {},
     "output_type": "execute_result"
    }
   ],
   "source": []
  },
  {
   "cell_type": "code",
   "execution_count": 27,
   "metadata": {},
   "outputs": [],
   "source": [
    "#To seperate the label(dependent variable) and features(independent variables)\n",
    "data_features = data.drop(\"median_house_value\",axis=1)\n",
    "\n",
    "#features = data.iloc[:,[0,1,2,3,4,5,6,7,8,9]].values\n",
    "#label = data.iloc[:,[10]].values\n",
    "\n"
   ]
  },
  {
   "cell_type": "code",
   "execution_count": 28,
   "metadata": {},
   "outputs": [
    {
     "name": "stdout",
     "output_type": "stream",
     "text": [
      "   longitude  latitude  housing_median_age  total_rooms  total_bedrooms  \\\n",
      "0    -122.23     37.88                  41          880           129.0   \n",
      "1    -122.22     37.86                  21         7099          1106.0   \n",
      "2    -122.24     37.85                  52         1467           190.0   \n",
      "3    -122.25     37.85                  52         1274           235.0   \n",
      "4    -122.25     37.85                  52         1627           280.0   \n",
      "\n",
      "   population  households  median_income  ocean_proximity  \n",
      "0         322         126         8.3252                3  \n",
      "1        2401        1138         8.3014                3  \n",
      "2         496         177         7.2574                3  \n",
      "3         558         219         5.6431                3  \n",
      "4         565         259         3.8462                3  \n"
     ]
    }
   ],
   "source": [
    "print(data_features.head())"
   ]
  },
  {
   "cell_type": "code",
   "execution_count": 29,
   "metadata": {},
   "outputs": [
    {
     "name": "stdout",
     "output_type": "stream",
     "text": [
      "Median House Value\n",
      "0    452600\n",
      "1    358500\n",
      "2    352100\n",
      "3    341300\n",
      "4    342200\n",
      "Name: median_house_value, dtype: int64\n"
     ]
    }
   ],
   "source": [
    "data_label = data[\"median_house_value\"]\n",
    "print(\"Median House Value\")\n",
    "print(data_label.head())"
   ]
  },
  {
   "cell_type": "code",
   "execution_count": 30,
   "metadata": {},
   "outputs": [],
   "source": [
    "#Split the entire dataset into training(80%) and test dataset(20%).Random state can be 0,1,45 etc and test size = 0.2 means 20% test dataset and remaining training dataset(80%)\n",
    "from sklearn.model_selection import train_test_split\n",
    "X_train,X_test,y_train,y_test = train_test_split(data_features,data_label,test_size=0.2,random_state=45)"
   ]
  },
  {
   "cell_type": "code",
   "execution_count": 31,
   "metadata": {},
   "outputs": [
    {
     "data": {
      "text/html": [
       "<div>\n",
       "<style scoped>\n",
       "    .dataframe tbody tr th:only-of-type {\n",
       "        vertical-align: middle;\n",
       "    }\n",
       "\n",
       "    .dataframe tbody tr th {\n",
       "        vertical-align: top;\n",
       "    }\n",
       "\n",
       "    .dataframe thead th {\n",
       "        text-align: right;\n",
       "    }\n",
       "</style>\n",
       "<table border=\"1\" class=\"dataframe\">\n",
       "  <thead>\n",
       "    <tr style=\"text-align: right;\">\n",
       "      <th></th>\n",
       "      <th>longitude</th>\n",
       "      <th>latitude</th>\n",
       "      <th>housing_median_age</th>\n",
       "      <th>total_rooms</th>\n",
       "      <th>total_bedrooms</th>\n",
       "      <th>population</th>\n",
       "      <th>households</th>\n",
       "      <th>median_income</th>\n",
       "      <th>ocean_proximity</th>\n",
       "    </tr>\n",
       "  </thead>\n",
       "  <tbody>\n",
       "    <tr>\n",
       "      <th>5793</th>\n",
       "      <td>-118.24</td>\n",
       "      <td>34.14</td>\n",
       "      <td>27</td>\n",
       "      <td>2909</td>\n",
       "      <td>1021.0</td>\n",
       "      <td>2614</td>\n",
       "      <td>935</td>\n",
       "      <td>2.1444</td>\n",
       "      <td>0</td>\n",
       "    </tr>\n",
       "    <tr>\n",
       "      <th>19176</th>\n",
       "      <td>-122.67</td>\n",
       "      <td>38.43</td>\n",
       "      <td>17</td>\n",
       "      <td>1804</td>\n",
       "      <td>304.0</td>\n",
       "      <td>750</td>\n",
       "      <td>298</td>\n",
       "      <td>4.5588</td>\n",
       "      <td>0</td>\n",
       "    </tr>\n",
       "    <tr>\n",
       "      <th>7373</th>\n",
       "      <td>-118.23</td>\n",
       "      <td>33.96</td>\n",
       "      <td>44</td>\n",
       "      <td>3186</td>\n",
       "      <td>876.0</td>\n",
       "      <td>3913</td>\n",
       "      <td>842</td>\n",
       "      <td>3.0143</td>\n",
       "      <td>0</td>\n",
       "    </tr>\n",
       "    <tr>\n",
       "      <th>17097</th>\n",
       "      <td>-122.23</td>\n",
       "      <td>37.46</td>\n",
       "      <td>26</td>\n",
       "      <td>4670</td>\n",
       "      <td>1039.0</td>\n",
       "      <td>2103</td>\n",
       "      <td>933</td>\n",
       "      <td>4.4167</td>\n",
       "      <td>4</td>\n",
       "    </tr>\n",
       "    <tr>\n",
       "      <th>791</th>\n",
       "      <td>-122.08</td>\n",
       "      <td>37.64</td>\n",
       "      <td>36</td>\n",
       "      <td>1116</td>\n",
       "      <td>199.0</td>\n",
       "      <td>662</td>\n",
       "      <td>226</td>\n",
       "      <td>5.7309</td>\n",
       "      <td>3</td>\n",
       "    </tr>\n",
       "  </tbody>\n",
       "</table>\n",
       "</div>"
      ],
      "text/plain": [
       "       longitude  latitude  housing_median_age  total_rooms  total_bedrooms  \\\n",
       "5793     -118.24     34.14                  27         2909          1021.0   \n",
       "19176    -122.67     38.43                  17         1804           304.0   \n",
       "7373     -118.23     33.96                  44         3186           876.0   \n",
       "17097    -122.23     37.46                  26         4670          1039.0   \n",
       "791      -122.08     37.64                  36         1116           199.0   \n",
       "\n",
       "       population  households  median_income  ocean_proximity  \n",
       "5793         2614         935         2.1444                0  \n",
       "19176         750         298         4.5588                0  \n",
       "7373         3913         842         3.0143                0  \n",
       "17097        2103         933         4.4167                4  \n",
       "791           662         226         5.7309                3  "
      ]
     },
     "execution_count": 31,
     "metadata": {},
     "output_type": "execute_result"
    }
   ],
   "source": [
    "X_train.head()"
   ]
  },
  {
   "cell_type": "code",
   "execution_count": 32,
   "metadata": {},
   "outputs": [
    {
     "data": {
      "text/plain": [
       "5793     229000\n",
       "19176    196400\n",
       "7373     148200\n",
       "17097    333800\n",
       "791      177900\n",
       "Name: median_house_value, dtype: int64"
      ]
     },
     "execution_count": 32,
     "metadata": {},
     "output_type": "execute_result"
    }
   ],
   "source": [
    "y_train.head()"
   ]
  },
  {
   "cell_type": "code",
   "execution_count": 33,
   "metadata": {},
   "outputs": [
    {
     "name": "stdout",
     "output_type": "stream",
     "text": [
      "Random State: 2 , Test Score: 0.6068516907754693, Train Score: 0.5996938127042555\n",
      "Random State: 4 , Test Score: 0.6068765353583436, Train Score: 0.5996403554788801\n",
      "Random State: 6 , Test Score: 0.6162220358169956, Train Score: 0.5971741494026541\n",
      "Random State: 7 , Test Score: 0.6030572991906404, Train Score: 0.6006169551479792\n",
      "Random State: 8 , Test Score: 0.6102217114102181, Train Score: 0.5988923767927243\n",
      "Random State: 9 , Test Score: 0.6147752303542827, Train Score: 0.5975970822168486\n",
      "Random State: 11 , Test Score: 0.6120461618127256, Train Score: 0.5981988898235098\n",
      "Random State: 12 , Test Score: 0.60620903907322, Train Score: 0.5998791491475212\n",
      "Random State: 13 , Test Score: 0.6089305018696649, Train Score: 0.5991532952733143\n",
      "Random State: 15 , Test Score: 0.6165588627037079, Train Score: 0.5970511104287706\n",
      "Random State: 16 , Test Score: 0.6025490088359693, Train Score: 0.6007055088344891\n",
      "Random State: 17 , Test Score: 0.6043854776526987, Train Score: 0.6001386623649956\n",
      "Random State: 19 , Test Score: 0.6117986171850759, Train Score: 0.598416956966876\n",
      "Random State: 22 , Test Score: 0.6089611230918774, Train Score: 0.5990930671365394\n",
      "Random State: 23 , Test Score: 0.6095624416689822, Train Score: 0.5990116676546735\n",
      "Random State: 27 , Test Score: 0.616435060008919, Train Score: 0.5972710919669885\n",
      "Random State: 29 , Test Score: 0.6119628550256027, Train Score: 0.5984401625584687\n",
      "Random State: 32 , Test Score: 0.6053104031593335, Train Score: 0.5999636853416905\n",
      "Random State: 33 , Test Score: 0.6092919843220865, Train Score: 0.5989300609102881\n",
      "Random State: 35 , Test Score: 0.6031593966912486, Train Score: 0.6000714722042857\n",
      "Random State: 36 , Test Score: 0.6066973501429995, Train Score: 0.5996296570783219\n",
      "Random State: 37 , Test Score: 0.6025987485213484, Train Score: 0.6007276827214735\n",
      "Random State: 38 , Test Score: 0.6069372761916088, Train Score: 0.5996190621640218\n",
      "Random State: 41 , Test Score: 0.6156310222109562, Train Score: 0.5969992345874966\n",
      "Random State: 42 , Test Score: 0.6123413361185639, Train Score: 0.5977855392713102\n",
      "Random State: 44 , Test Score: 0.6142854672668215, Train Score: 0.5978200295795117\n",
      "Random State: 45 , Test Score: 0.6016285781029853, Train Score: 0.6009184768692156\n",
      "Random State: 47 , Test Score: 0.6231913052303385, Train Score: 0.5957276541325489\n",
      "Random State: 50 , Test Score: 0.6290550517679303, Train Score: 0.5936968899594346\n",
      "Random State: 51 , Test Score: 0.6067245013533424, Train Score: 0.5996866214959465\n",
      "Random State: 53 , Test Score: 0.6099144189368844, Train Score: 0.59898482969263\n",
      "Random State: 55 , Test Score: 0.6084319380569252, Train Score: 0.5992130709126658\n",
      "Random State: 58 , Test Score: 0.6109703427996521, Train Score: 0.5985616236067968\n",
      "Random State: 59 , Test Score: 0.6148340910995134, Train Score: 0.5976530483152457\n",
      "Random State: 60 , Test Score: 0.6167807444033735, Train Score: 0.5971991127868486\n",
      "Random State: 61 , Test Score: 0.6104013197998086, Train Score: 0.5986955002165695\n",
      "Random State: 62 , Test Score: 0.6046184023847461, Train Score: 0.6002662593818037\n",
      "Random State: 63 , Test Score: 0.6011588777965113, Train Score: 0.6008531424607777\n",
      "Random State: 65 , Test Score: 0.6032749693911588, Train Score: 0.6005888352895051\n",
      "Random State: 66 , Test Score: 0.6018259282065435, Train Score: 0.6005961203994539\n",
      "Random State: 69 , Test Score: 0.6151312051938245, Train Score: 0.5973235705793922\n",
      "Random State: 70 , Test Score: 0.6159343993069193, Train Score: 0.5972201539492206\n",
      "Random State: 73 , Test Score: 0.6116518616636715, Train Score: 0.5984338555661564\n",
      "Random State: 74 , Test Score: 0.6120726780895267, Train Score: 0.5982503772075433\n",
      "Random State: 76 , Test Score: 0.6200786410369187, Train Score: 0.5962163749071581\n",
      "Random State: 78 , Test Score: 0.6136936653318823, Train Score: 0.5978746868546572\n",
      "Random State: 79 , Test Score: 0.6147141338565436, Train Score: 0.5978092123157224\n",
      "Random State: 80 , Test Score: 0.6089007802166992, Train Score: 0.5990584143100175\n",
      "Random State: 82 , Test Score: 0.6069221727003258, Train Score: 0.5995686861620397\n",
      "Random State: 83 , Test Score: 0.6027456381088709, Train Score: 0.600672664698247\n",
      "Random State: 85 , Test Score: 0.6303328643718681, Train Score: 0.5936815184746711\n",
      "Random State: 88 , Test Score: 0.6099774178944942, Train Score: 0.5989200794348923\n",
      "Random State: 91 , Test Score: 0.6038268025159395, Train Score: 0.6003777909225608\n",
      "Random State: 92 , Test Score: 0.6121416266681514, Train Score: 0.5983371478114192\n",
      "Random State: 93 , Test Score: 0.6132183290883576, Train Score: 0.5979869059708038\n",
      "Random State: 95 , Test Score: 0.6014295140045384, Train Score: 0.6007553782673083\n",
      "Random State: 97 , Test Score: 0.6108341778891511, Train Score: 0.5987189676128515\n",
      "Random State: 99 , Test Score: 0.6171780931391044, Train Score: 0.596993350340417\n"
     ]
    }
   ],
   "source": [
    "from sklearn.model_selection import train_test_split\n",
    "from sklearn.linear_model import LinearRegression\n",
    "for i in range(1,100):\n",
    "    X_train,X_test,y_train,y_test = train_test_split(data_features,\n",
    "                                                 data_label,\n",
    "                                                 test_size=0.2,\n",
    "                                                 random_state = i)\n",
    "    \n",
    "    lrModel = LinearRegression()\n",
    "    lrModel.fit(X_train,y_train)\n",
    "    \n",
    "    train_score= lrModel.score(X_train,y_train)\n",
    "    test_score= lrModel.score(X_test,y_test)\n",
    "    \n",
    "    if test_score > train_score:\n",
    "        print(\"Random State: {} , Test Score: {}, Train Score: {}\".format(i,test_score,train_score))"
   ]
  },
  {
   "cell_type": "code",
   "execution_count": 34,
   "metadata": {},
   "outputs": [
    {
     "data": {
      "text/plain": [
       "LinearRegression(copy_X=True, fit_intercept=True, n_jobs=None,\n",
       "         normalize=False)"
      ]
     },
     "execution_count": 34,
     "metadata": {},
     "output_type": "execute_result"
    }
   ],
   "source": [
    "#Thru Linear regression model , since test score > train score , its a fitted model and acceptable one\n",
    "from sklearn.linear_model import LinearRegression\n",
    "\n",
    "lrModel = LinearRegression()\n",
    "\n",
    "lrModel.fit(X_train,y_train)"
   ]
  },
  {
   "cell_type": "code",
   "execution_count": 35,
   "metadata": {},
   "outputs": [
    {
     "name": "stdout",
     "output_type": "stream",
     "text": [
      "Co-efficients: \n",
      "[-3.97948405e+04 -3.89277777e+04  9.37804586e+02 -7.53189988e+00\n",
      "  8.47830320e+01 -3.05293676e+01  5.40124474e+01  3.81378091e+04\n",
      " -7.29022747e+02]\n",
      "Intercept: \n",
      "-3353632.9221006073\n"
     ]
    }
   ],
   "source": [
    "print(\"Co-efficients: \")\n",
    "print(lrModel.coef_)\n",
    "print(\"Intercept: \")\n",
    "print(lrModel.intercept_)"
   ]
  },
  {
   "cell_type": "code",
   "execution_count": 36,
   "metadata": {},
   "outputs": [
    {
     "data": {
      "text/plain": [
       "0.596993350340417"
      ]
     },
     "execution_count": 36,
     "metadata": {},
     "output_type": "execute_result"
    }
   ],
   "source": [
    "lrModel.score(X_train,y_train)"
   ]
  },
  {
   "cell_type": "code",
   "execution_count": 37,
   "metadata": {},
   "outputs": [
    {
     "data": {
      "text/plain": [
       "0.6171780931391044"
      ]
     },
     "execution_count": 37,
     "metadata": {},
     "output_type": "execute_result"
    }
   ],
   "source": [
    "lrModel.score(X_test,y_test)"
   ]
  },
  {
   "cell_type": "code",
   "execution_count": null,
   "metadata": {},
   "outputs": [],
   "source": [
    "#Test model score is greater than train model score , we prepare the model using training dataset and test the same using test dataset"
   ]
  },
  {
   "cell_type": "code",
   "execution_count": 38,
   "metadata": {},
   "outputs": [],
   "source": [
    "y_pred = lrModel.predict(X_test)"
   ]
  },
  {
   "cell_type": "code",
   "execution_count": 39,
   "metadata": {},
   "outputs": [
    {
     "name": "stdout",
     "output_type": "stream",
     "text": [
      "58872.643559551034\n",
      "60629.61240141983\n"
     ]
    }
   ],
   "source": [
    "#To check root mean square\n",
    "from sklearn import metrics\n",
    "print(np.sqrt(metrics.mean_squared_error(y_test,y_pred)))\n",
    "print(np.sqrt(metrics.mean_squared_error(y_train,lrModel.predict(X_train))))"
   ]
  },
  {
   "cell_type": "code",
   "execution_count": null,
   "metadata": {},
   "outputs": [],
   "source": [
    "# decsion tree"
   ]
  },
  {
   "cell_type": "code",
   "execution_count": 40,
   "metadata": {},
   "outputs": [
    {
     "data": {
      "text/plain": [
       "DecisionTreeRegressor(criterion='mse', max_depth=9, max_features=None,\n",
       "           max_leaf_nodes=None, min_impurity_decrease=0.0,\n",
       "           min_impurity_split=None, min_samples_leaf=1,\n",
       "           min_samples_split=2, min_weight_fraction_leaf=0.0,\n",
       "           presort=False, random_state=None, splitter='best')"
      ]
     },
     "execution_count": 40,
     "metadata": {},
     "output_type": "execute_result"
    }
   ],
   "source": [
    "from sklearn.model_selection import train_test_split\n",
    "from sklearn.tree import DecisionTreeRegressor\n",
    "dt = DecisionTreeRegressor(max_depth=9)\n",
    "dt.fit(X_train,y_train)"
   ]
  },
  {
   "cell_type": "code",
   "execution_count": 41,
   "metadata": {},
   "outputs": [
    {
     "data": {
      "text/plain": [
       "array([266525.61983471, 124616.16161616, 107019.40298507, ...,\n",
       "       405715.78947368, 207027.39726027, 237804.01459854])"
      ]
     },
     "execution_count": 41,
     "metadata": {},
     "output_type": "execute_result"
    }
   ],
   "source": [
    "dt_y_pred = dt.predict(X_test)\n",
    "dt_y_pred"
   ]
  },
  {
   "cell_type": "code",
   "execution_count": 42,
   "metadata": {},
   "outputs": [],
   "source": [
    "from sklearn.model_selection import train_test_split\n",
    "from sklearn.tree import DecisionTreeRegressor\n",
    "for i in range(1,100):\n",
    "    X_train,X_test,y_train,y_test = train_test_split(data_features,\n",
    "                                                 data_label,\n",
    "                                                 test_size=0.2,\n",
    "                                                 random_state = i)\n",
    "    \n",
    "    lrModel = DecisionTreeRegressor(max_depth=8)\n",
    "    lrModel.fit(X_train,y_train)\n",
    "    \n",
    "    train_score= lrModel.score(X_train,y_train)\n",
    "    test_score= lrModel.score(X_test,y_test)\n",
    "    \n",
    "    if test_score > train_score:\n",
    "        print(\"Random State: {} , Test Score: {}, Train Score: {}\".format(i,test_score,train_score))"
   ]
  },
  {
   "cell_type": "code",
   "execution_count": 43,
   "metadata": {},
   "outputs": [],
   "source": [
    "#Random forest "
   ]
  },
  {
   "cell_type": "code",
   "execution_count": 44,
   "metadata": {},
   "outputs": [
    {
     "name": "stdout",
     "output_type": "stream",
     "text": [
      "Random State: 1 , Test Score: 0.40831621173200405, Train Score: 0.3999080004724628\n",
      "Random State: 2 , Test Score: 0.41005606810607553, Train Score: 0.4049508486972774\n",
      "Random State: 4 , Test Score: 0.4284042753845375, Train Score: 0.39888683271181524\n",
      "Random State: 9 , Test Score: 0.4089374420099303, Train Score: 0.40393231353573067\n",
      "Random State: 14 , Test Score: 0.40370732936681764, Train Score: 0.403299739152711\n",
      "Random State: 15 , Test Score: 0.4049193595463183, Train Score: 0.40066795202429173\n",
      "Random State: 19 , Test Score: 0.40261270505886937, Train Score: 0.3992564625028221\n",
      "Random State: 22 , Test Score: 0.41154098232617675, Train Score: 0.40271153561814355\n",
      "Random State: 25 , Test Score: 0.40155969365336575, Train Score: 0.40076448655776153\n",
      "Random State: 27 , Test Score: 0.4063506833197865, Train Score: 0.3990757936895848\n",
      "Random State: 29 , Test Score: 0.4192095916528005, Train Score: 0.41357014322528174\n",
      "Random State: 33 , Test Score: 0.4068582630968881, Train Score: 0.4024242037076955\n",
      "Random State: 35 , Test Score: 0.4072556651020732, Train Score: 0.39852868202517855\n",
      "Random State: 36 , Test Score: 0.42189568061594573, Train Score: 0.39714083131387423\n",
      "Random State: 37 , Test Score: 0.4104031794792956, Train Score: 0.39838449588001\n",
      "Random State: 40 , Test Score: 0.407538344312791, Train Score: 0.40702565296272575\n",
      "Random State: 41 , Test Score: 0.41810500698029396, Train Score: 0.39753543727154983\n",
      "Random State: 42 , Test Score: 0.41252429206946106, Train Score: 0.39951090415957313\n",
      "Random State: 47 , Test Score: 0.43429531536177546, Train Score: 0.40275286054664494\n",
      "Random State: 51 , Test Score: 0.40198278920447605, Train Score: 0.39842030408016327\n",
      "Random State: 52 , Test Score: 0.4048987511964727, Train Score: 0.39795220668146836\n",
      "Random State: 53 , Test Score: 0.4151966672588847, Train Score: 0.41019445966783763\n",
      "Random State: 54 , Test Score: 0.40418933715486827, Train Score: 0.3985596717750527\n",
      "Random State: 59 , Test Score: 0.40235670974692694, Train Score: 0.4018423096417413\n",
      "Random State: 60 , Test Score: 0.3998095750030657, Train Score: 0.3990846495297835\n",
      "Random State: 61 , Test Score: 0.41445132073284985, Train Score: 0.3964056185129967\n",
      "Random State: 68 , Test Score: 0.41314404807398153, Train Score: 0.40262360425084975\n",
      "Random State: 69 , Test Score: 0.4234064824814635, Train Score: 0.41602581555329254\n",
      "Random State: 70 , Test Score: 0.41037221009637537, Train Score: 0.40938095903084415\n",
      "Random State: 72 , Test Score: 0.41069719067641597, Train Score: 0.40949960481264347\n",
      "Random State: 73 , Test Score: 0.4185126034123898, Train Score: 0.40499714624075867\n",
      "Random State: 74 , Test Score: 0.41399832986287, Train Score: 0.39943971140388823\n",
      "Random State: 76 , Test Score: 0.41838789663341214, Train Score: 0.40644166435970963\n",
      "Random State: 77 , Test Score: 0.40847842378373944, Train Score: 0.4043552470186844\n",
      "Random State: 78 , Test Score: 0.4193873775938599, Train Score: 0.39722763463754807\n",
      "Random State: 80 , Test Score: 0.4177622657874198, Train Score: 0.40761707628440536\n",
      "Random State: 82 , Test Score: 0.4072797668864817, Train Score: 0.40105638115674136\n",
      "Random State: 85 , Test Score: 0.4278630625168167, Train Score: 0.39956632941546666\n",
      "Random State: 86 , Test Score: 0.40313819776416315, Train Score: 0.4027897865840926\n",
      "Random State: 91 , Test Score: 0.4063893452447772, Train Score: 0.40012520223448367\n",
      "Random State: 92 , Test Score: 0.41047405963256045, Train Score: 0.4039934711656167\n",
      "Random State: 95 , Test Score: 0.406654768219178, Train Score: 0.40205860112058867\n",
      "Random State: 97 , Test Score: 0.4062615483333877, Train Score: 0.4052312129241862\n",
      "Random State: 99 , Test Score: 0.4203091044486751, Train Score: 0.41024822381933634\n"
     ]
    }
   ],
   "source": [
    "from sklearn.model_selection import train_test_split\n",
    "from sklearn.ensemble import RandomForestRegressor\n",
    "for i in range(1,100):\n",
    "    X_train,X_test,y_train,y_test = train_test_split(data_features,\n",
    "                                                 data_label,\n",
    "                                                 test_size=0.2,\n",
    "                                                 random_state = i)\n",
    "    \n",
    "    lrModel = RandomForestRegressor(n_estimators=15, max_depth=2)\n",
    "    lrModel.fit(X_train,y_train)\n",
    "    \n",
    "    train_score= lrModel.score(X_train,y_train)\n",
    "    test_score= lrModel.score(X_test,y_test)\n",
    "    \n",
    "    if test_score > train_score:\n",
    "        print(\"Random State: {} , Test Score: {}, Train Score: {}\".format(i,test_score,train_score))"
   ]
  },
  {
   "cell_type": "code",
   "execution_count": 45,
   "metadata": {},
   "outputs": [
    {
     "name": "stdout",
     "output_type": "stream",
     "text": [
      "72445.82893750315\n"
     ]
    }
   ],
   "source": [
    "#Test score > Training score , so the model is valid . RMSE is calculated below\n",
    "rf_y_pred = lrModel.predict(X_test)\n",
    "print(np.sqrt(metrics.mean_squared_error(y_test,rf_y_pred)))"
   ]
  },
  {
   "cell_type": "code",
   "execution_count": 46,
   "metadata": {},
   "outputs": [],
   "source": [
    "#Linear Regression using 1 ind variable"
   ]
  },
  {
   "cell_type": "code",
   "execution_count": 58,
   "metadata": {},
   "outputs": [
    {
     "data": {
      "text/html": [
       "<div>\n",
       "<style scoped>\n",
       "    .dataframe tbody tr th:only-of-type {\n",
       "        vertical-align: middle;\n",
       "    }\n",
       "\n",
       "    .dataframe tbody tr th {\n",
       "        vertical-align: top;\n",
       "    }\n",
       "\n",
       "    .dataframe thead th {\n",
       "        text-align: right;\n",
       "    }\n",
       "</style>\n",
       "<table border=\"1\" class=\"dataframe\">\n",
       "  <thead>\n",
       "    <tr style=\"text-align: right;\">\n",
       "      <th></th>\n",
       "      <th>median_income</th>\n",
       "    </tr>\n",
       "  </thead>\n",
       "  <tbody>\n",
       "    <tr>\n",
       "      <th>0</th>\n",
       "      <td>8.3252</td>\n",
       "    </tr>\n",
       "    <tr>\n",
       "      <th>1</th>\n",
       "      <td>8.3014</td>\n",
       "    </tr>\n",
       "    <tr>\n",
       "      <th>2</th>\n",
       "      <td>7.2574</td>\n",
       "    </tr>\n",
       "    <tr>\n",
       "      <th>3</th>\n",
       "      <td>5.6431</td>\n",
       "    </tr>\n",
       "    <tr>\n",
       "      <th>4</th>\n",
       "      <td>3.8462</td>\n",
       "    </tr>\n",
       "    <tr>\n",
       "      <th>5</th>\n",
       "      <td>4.0368</td>\n",
       "    </tr>\n",
       "    <tr>\n",
       "      <th>6</th>\n",
       "      <td>3.6591</td>\n",
       "    </tr>\n",
       "    <tr>\n",
       "      <th>7</th>\n",
       "      <td>3.1200</td>\n",
       "    </tr>\n",
       "    <tr>\n",
       "      <th>8</th>\n",
       "      <td>2.0804</td>\n",
       "    </tr>\n",
       "    <tr>\n",
       "      <th>9</th>\n",
       "      <td>3.6912</td>\n",
       "    </tr>\n",
       "    <tr>\n",
       "      <th>10</th>\n",
       "      <td>3.2031</td>\n",
       "    </tr>\n",
       "    <tr>\n",
       "      <th>11</th>\n",
       "      <td>3.2705</td>\n",
       "    </tr>\n",
       "    <tr>\n",
       "      <th>12</th>\n",
       "      <td>3.0750</td>\n",
       "    </tr>\n",
       "    <tr>\n",
       "      <th>13</th>\n",
       "      <td>2.6736</td>\n",
       "    </tr>\n",
       "    <tr>\n",
       "      <th>14</th>\n",
       "      <td>1.9167</td>\n",
       "    </tr>\n",
       "    <tr>\n",
       "      <th>15</th>\n",
       "      <td>2.1250</td>\n",
       "    </tr>\n",
       "    <tr>\n",
       "      <th>16</th>\n",
       "      <td>2.7750</td>\n",
       "    </tr>\n",
       "    <tr>\n",
       "      <th>17</th>\n",
       "      <td>2.1202</td>\n",
       "    </tr>\n",
       "    <tr>\n",
       "      <th>18</th>\n",
       "      <td>1.9911</td>\n",
       "    </tr>\n",
       "    <tr>\n",
       "      <th>19</th>\n",
       "      <td>2.6033</td>\n",
       "    </tr>\n",
       "    <tr>\n",
       "      <th>20</th>\n",
       "      <td>1.3578</td>\n",
       "    </tr>\n",
       "    <tr>\n",
       "      <th>21</th>\n",
       "      <td>1.7135</td>\n",
       "    </tr>\n",
       "    <tr>\n",
       "      <th>22</th>\n",
       "      <td>1.7250</td>\n",
       "    </tr>\n",
       "    <tr>\n",
       "      <th>23</th>\n",
       "      <td>2.1806</td>\n",
       "    </tr>\n",
       "    <tr>\n",
       "      <th>24</th>\n",
       "      <td>2.6000</td>\n",
       "    </tr>\n",
       "    <tr>\n",
       "      <th>25</th>\n",
       "      <td>2.4038</td>\n",
       "    </tr>\n",
       "    <tr>\n",
       "      <th>26</th>\n",
       "      <td>2.4597</td>\n",
       "    </tr>\n",
       "    <tr>\n",
       "      <th>27</th>\n",
       "      <td>1.8080</td>\n",
       "    </tr>\n",
       "    <tr>\n",
       "      <th>28</th>\n",
       "      <td>1.6424</td>\n",
       "    </tr>\n",
       "    <tr>\n",
       "      <th>29</th>\n",
       "      <td>1.6875</td>\n",
       "    </tr>\n",
       "    <tr>\n",
       "      <th>...</th>\n",
       "      <td>...</td>\n",
       "    </tr>\n",
       "    <tr>\n",
       "      <th>20610</th>\n",
       "      <td>1.3631</td>\n",
       "    </tr>\n",
       "    <tr>\n",
       "      <th>20611</th>\n",
       "      <td>1.2857</td>\n",
       "    </tr>\n",
       "    <tr>\n",
       "      <th>20612</th>\n",
       "      <td>1.4934</td>\n",
       "    </tr>\n",
       "    <tr>\n",
       "      <th>20613</th>\n",
       "      <td>1.4958</td>\n",
       "    </tr>\n",
       "    <tr>\n",
       "      <th>20614</th>\n",
       "      <td>2.4695</td>\n",
       "    </tr>\n",
       "    <tr>\n",
       "      <th>20615</th>\n",
       "      <td>2.3598</td>\n",
       "    </tr>\n",
       "    <tr>\n",
       "      <th>20616</th>\n",
       "      <td>2.0469</td>\n",
       "    </tr>\n",
       "    <tr>\n",
       "      <th>20617</th>\n",
       "      <td>3.3021</td>\n",
       "    </tr>\n",
       "    <tr>\n",
       "      <th>20618</th>\n",
       "      <td>2.2500</td>\n",
       "    </tr>\n",
       "    <tr>\n",
       "      <th>20619</th>\n",
       "      <td>2.7303</td>\n",
       "    </tr>\n",
       "    <tr>\n",
       "      <th>20620</th>\n",
       "      <td>4.5625</td>\n",
       "    </tr>\n",
       "    <tr>\n",
       "      <th>20621</th>\n",
       "      <td>2.3661</td>\n",
       "    </tr>\n",
       "    <tr>\n",
       "      <th>20622</th>\n",
       "      <td>2.4167</td>\n",
       "    </tr>\n",
       "    <tr>\n",
       "      <th>20623</th>\n",
       "      <td>2.8235</td>\n",
       "    </tr>\n",
       "    <tr>\n",
       "      <th>20624</th>\n",
       "      <td>3.0739</td>\n",
       "    </tr>\n",
       "    <tr>\n",
       "      <th>20625</th>\n",
       "      <td>4.1250</td>\n",
       "    </tr>\n",
       "    <tr>\n",
       "      <th>20626</th>\n",
       "      <td>2.1667</td>\n",
       "    </tr>\n",
       "    <tr>\n",
       "      <th>20627</th>\n",
       "      <td>3.0000</td>\n",
       "    </tr>\n",
       "    <tr>\n",
       "      <th>20628</th>\n",
       "      <td>2.5952</td>\n",
       "    </tr>\n",
       "    <tr>\n",
       "      <th>20629</th>\n",
       "      <td>2.0943</td>\n",
       "    </tr>\n",
       "    <tr>\n",
       "      <th>20630</th>\n",
       "      <td>3.5673</td>\n",
       "    </tr>\n",
       "    <tr>\n",
       "      <th>20631</th>\n",
       "      <td>3.5179</td>\n",
       "    </tr>\n",
       "    <tr>\n",
       "      <th>20632</th>\n",
       "      <td>3.1250</td>\n",
       "    </tr>\n",
       "    <tr>\n",
       "      <th>20633</th>\n",
       "      <td>2.5495</td>\n",
       "    </tr>\n",
       "    <tr>\n",
       "      <th>20634</th>\n",
       "      <td>3.7125</td>\n",
       "    </tr>\n",
       "    <tr>\n",
       "      <th>20635</th>\n",
       "      <td>1.5603</td>\n",
       "    </tr>\n",
       "    <tr>\n",
       "      <th>20636</th>\n",
       "      <td>2.5568</td>\n",
       "    </tr>\n",
       "    <tr>\n",
       "      <th>20637</th>\n",
       "      <td>1.7000</td>\n",
       "    </tr>\n",
       "    <tr>\n",
       "      <th>20638</th>\n",
       "      <td>1.8672</td>\n",
       "    </tr>\n",
       "    <tr>\n",
       "      <th>20639</th>\n",
       "      <td>2.3886</td>\n",
       "    </tr>\n",
       "  </tbody>\n",
       "</table>\n",
       "<p>19569 rows × 1 columns</p>\n",
       "</div>"
      ],
      "text/plain": [
       "       median_income\n",
       "0             8.3252\n",
       "1             8.3014\n",
       "2             7.2574\n",
       "3             5.6431\n",
       "4             3.8462\n",
       "5             4.0368\n",
       "6             3.6591\n",
       "7             3.1200\n",
       "8             2.0804\n",
       "9             3.6912\n",
       "10            3.2031\n",
       "11            3.2705\n",
       "12            3.0750\n",
       "13            2.6736\n",
       "14            1.9167\n",
       "15            2.1250\n",
       "16            2.7750\n",
       "17            2.1202\n",
       "18            1.9911\n",
       "19            2.6033\n",
       "20            1.3578\n",
       "21            1.7135\n",
       "22            1.7250\n",
       "23            2.1806\n",
       "24            2.6000\n",
       "25            2.4038\n",
       "26            2.4597\n",
       "27            1.8080\n",
       "28            1.6424\n",
       "29            1.6875\n",
       "...              ...\n",
       "20610         1.3631\n",
       "20611         1.2857\n",
       "20612         1.4934\n",
       "20613         1.4958\n",
       "20614         2.4695\n",
       "20615         2.3598\n",
       "20616         2.0469\n",
       "20617         3.3021\n",
       "20618         2.2500\n",
       "20619         2.7303\n",
       "20620         4.5625\n",
       "20621         2.3661\n",
       "20622         2.4167\n",
       "20623         2.8235\n",
       "20624         3.0739\n",
       "20625         4.1250\n",
       "20626         2.1667\n",
       "20627         3.0000\n",
       "20628         2.5952\n",
       "20629         2.0943\n",
       "20630         3.5673\n",
       "20631         3.5179\n",
       "20632         3.1250\n",
       "20633         2.5495\n",
       "20634         3.7125\n",
       "20635         1.5603\n",
       "20636         2.5568\n",
       "20637         1.7000\n",
       "20638         1.8672\n",
       "20639         2.3886\n",
       "\n",
       "[19569 rows x 1 columns]"
      ]
     },
     "execution_count": 58,
     "metadata": {},
     "output_type": "execute_result"
    }
   ],
   "source": [
    "#feature is median income column\n",
    "\n",
    "data1_features = data_features.iloc[0:20640,7:8]\n",
    "data1_features"
   ]
  },
  {
   "cell_type": "code",
   "execution_count": 59,
   "metadata": {},
   "outputs": [
    {
     "data": {
      "text/plain": [
       "0        452600\n",
       "1        358500\n",
       "2        352100\n",
       "3        341300\n",
       "4        342200\n",
       "5        269700\n",
       "6        299200\n",
       "7        241400\n",
       "8        226700\n",
       "9        261100\n",
       "10       281500\n",
       "11       241800\n",
       "12       213500\n",
       "13       191300\n",
       "14       159200\n",
       "15       140000\n",
       "16       152500\n",
       "17       155500\n",
       "18       158700\n",
       "19       162900\n",
       "20       147500\n",
       "21       159800\n",
       "22       113900\n",
       "23        99700\n",
       "24       132600\n",
       "25       107500\n",
       "26        93800\n",
       "27       105500\n",
       "28       108900\n",
       "29       132000\n",
       "          ...  \n",
       "20610     45500\n",
       "20611     47000\n",
       "20612     48300\n",
       "20613     53400\n",
       "20614     58000\n",
       "20615     57500\n",
       "20616     55100\n",
       "20617     70800\n",
       "20618     63400\n",
       "20619     99100\n",
       "20620    100000\n",
       "20621     77500\n",
       "20622     67000\n",
       "20623     65500\n",
       "20624     87200\n",
       "20625     72000\n",
       "20626     93800\n",
       "20627    162500\n",
       "20628     92400\n",
       "20629    108300\n",
       "20630    112000\n",
       "20631    107200\n",
       "20632    115600\n",
       "20633     98300\n",
       "20634    116800\n",
       "20635     78100\n",
       "20636     77100\n",
       "20637     92300\n",
       "20638     84700\n",
       "20639     89400\n",
       "Name: median_house_value, Length: 19569, dtype: int64"
      ]
     },
     "execution_count": 59,
     "metadata": {},
     "output_type": "execute_result"
    }
   ],
   "source": [
    "#label is house value\n",
    "data1_label = data_label\n",
    "data1_label"
   ]
  },
  {
   "cell_type": "code",
   "execution_count": 60,
   "metadata": {},
   "outputs": [
    {
     "name": "stdout",
     "output_type": "stream",
     "text": [
      "Random State: 1 , Test Score: 0.4268917777311424, Train Score: 0.4120882367329478\n",
      "Random State: 2 , Test Score: 0.42922149498805173, Train Score: 0.4115837697277859\n",
      "Random State: 4 , Test Score: 0.4420898890734247, Train Score: 0.4082181369121941\n",
      "Random State: 6 , Test Score: 0.4213465909566152, Train Score: 0.4133699411591082\n",
      "Random State: 8 , Test Score: 0.4189228837820178, Train Score: 0.41411445856598206\n",
      "Random State: 9 , Test Score: 0.4261921196765591, Train Score: 0.4122538146263687\n",
      "Random State: 12 , Test Score: 0.421853554718877, Train Score: 0.4134120581702906\n",
      "Random State: 13 , Test Score: 0.4162180274752668, Train Score: 0.4146320105987339\n",
      "Random State: 14 , Test Score: 0.41664917409582436, Train Score: 0.4146446223652295\n",
      "Random State: 15 , Test Score: 0.42919328725138794, Train Score: 0.4113958149107352\n",
      "Random State: 19 , Test Score: 0.4205329640871489, Train Score: 0.41370419117890755\n",
      "Random State: 20 , Test Score: 0.41750996392043094, Train Score: 0.41444926272646865\n",
      "Random State: 22 , Test Score: 0.42910682706218195, Train Score: 0.4114999416911538\n",
      "Random State: 23 , Test Score: 0.4185446393167661, Train Score: 0.41415631776775796\n",
      "Random State: 25 , Test Score: 0.41590738780175873, Train Score: 0.41483425057890644\n",
      "Random State: 26 , Test Score: 0.42393370476856473, Train Score: 0.41284376761638153\n",
      "Random State: 27 , Test Score: 0.4302807035593583, Train Score: 0.41125211445620924\n",
      "Random State: 29 , Test Score: 0.418434257540542, Train Score: 0.4142177110149523\n",
      "Random State: 33 , Test Score: 0.4166211460560362, Train Score: 0.41443446833333086\n",
      "Random State: 35 , Test Score: 0.43173475226769276, Train Score: 0.41093760084692377\n",
      "Random State: 36 , Test Score: 0.43584217079077436, Train Score: 0.40975719558414503\n",
      "Random State: 37 , Test Score: 0.42686561591413374, Train Score: 0.4120957333718813\n",
      "Random State: 38 , Test Score: 0.41621639171988367, Train Score: 0.4146651151900391\n",
      "Random State: 41 , Test Score: 0.4376868806958224, Train Score: 0.40935553420793935\n",
      "Random State: 42 , Test Score: 0.43406255069161304, Train Score: 0.41021925984521346\n",
      "Random State: 44 , Test Score: 0.4163788191107308, Train Score: 0.4147446964998798\n",
      "Random State: 47 , Test Score: 0.44399469123422997, Train Score: 0.40801482881356066\n",
      "Random State: 50 , Test Score: 0.4230308528338048, Train Score: 0.4129076048884187\n",
      "Random State: 51 , Test Score: 0.4173137022316249, Train Score: 0.4145016313375517\n",
      "Random State: 52 , Test Score: 0.42677191477877174, Train Score: 0.4121125960146713\n",
      "Random State: 53 , Test Score: 0.4214687220342457, Train Score: 0.41349850647523345\n",
      "Random State: 54 , Test Score: 0.4254547472945933, Train Score: 0.41244519332649954\n",
      "Random State: 55 , Test Score: 0.42152550205763495, Train Score: 0.41341053591899446\n",
      "Random State: 58 , Test Score: 0.4156602702797262, Train Score: 0.4149170147750887\n",
      "Random State: 59 , Test Score: 0.4278016640339046, Train Score: 0.41189486899231686\n",
      "Random State: 60 , Test Score: 0.42741944477325144, Train Score: 0.41199146869443304\n",
      "Random State: 61 , Test Score: 0.43604774462892837, Train Score: 0.4096651996973496\n",
      "Random State: 62 , Test Score: 0.416400423430518, Train Score: 0.41474200651221826\n",
      "Random State: 64 , Test Score: 0.4193820760988679, Train Score: 0.4139137147560277\n",
      "Random State: 68 , Test Score: 0.42679697625468294, Train Score: 0.4121166213461742\n",
      "Random State: 69 , Test Score: 0.43214969823587535, Train Score: 0.41049432098662775\n",
      "Random State: 70 , Test Score: 0.4200306693079743, Train Score: 0.41380218745021413\n",
      "Random State: 72 , Test Score: 0.4195162997449807, Train Score: 0.41393577532909664\n",
      "Random State: 73 , Test Score: 0.431955344922903, Train Score: 0.4108097886717933\n",
      "Random State: 74 , Test Score: 0.4283274027807188, Train Score: 0.4115878775951177\n",
      "Random State: 75 , Test Score: 0.4304275835904472, Train Score: 0.4108019964666696\n",
      "Random State: 76 , Test Score: 0.4336600772029774, Train Score: 0.41023185031530207\n",
      "Random State: 77 , Test Score: 0.41624567642825916, Train Score: 0.41474049324015605\n",
      "Random State: 78 , Test Score: 0.436872504555999, Train Score: 0.4094455850596508\n",
      "Random State: 79 , Test Score: 0.42437453725213226, Train Score: 0.4128156593644414\n",
      "Random State: 80 , Test Score: 0.42506413464646353, Train Score: 0.41255900741687646\n",
      "Random State: 82 , Test Score: 0.42801053495725294, Train Score: 0.4118372286273846\n",
      "Random State: 85 , Test Score: 0.4483229420289573, Train Score: 0.4066735401497559\n",
      "Random State: 88 , Test Score: 0.4159117235840629, Train Score: 0.414871311816834\n",
      "Random State: 91 , Test Score: 0.4248747094717614, Train Score: 0.41252758357943575\n",
      "Random State: 92 , Test Score: 0.42366299424560516, Train Score: 0.412888280243663\n",
      "Random State: 93 , Test Score: 0.42341964413178634, Train Score: 0.41291851138358704\n",
      "Random State: 95 , Test Score: 0.4186441148498058, Train Score: 0.41386073454210615\n",
      "Random State: 97 , Test Score: 0.41667575583432803, Train Score: 0.4146717018238497\n",
      "Random State: 99 , Test Score: 0.4274041109076857, Train Score: 0.4119890638640763\n"
     ]
    }
   ],
   "source": [
    "from sklearn.model_selection import train_test_split\n",
    "from sklearn.linear_model import LinearRegression\n",
    "for i in range(1,100):\n",
    "    X_train_1,X_test_1,y_train_1,y_test_1 = train_test_split(data1_features,\n",
    "                                                 data1_label,\n",
    "                                                 test_size=0.2,\n",
    "                                                 random_state = i)\n",
    "    \n",
    "    lrModel = LinearRegression()\n",
    "    lrModel.fit(X_train_1,y_train_1)\n",
    "    \n",
    "    train_score= lrModel.score(X_train_1,y_train_1)\n",
    "    test_score= lrModel.score(X_test_1,y_test_1)\n",
    "    \n",
    "    if test_score > train_score:\n",
    "        print(\"Random State: {} , Test Score: {}, Train Score: {}\".format(i,test_score,train_score))"
   ]
  },
  {
   "cell_type": "code",
   "execution_count": null,
   "metadata": {},
   "outputs": [],
   "source": [
    "#test score > train score means model is fit"
   ]
  }
 ],
 "metadata": {
  "kernelspec": {
   "display_name": "Python 3",
   "language": "python",
   "name": "python3"
  },
  "language_info": {
   "codemirror_mode": {
    "name": "ipython",
    "version": 3
   },
   "file_extension": ".py",
   "mimetype": "text/x-python",
   "name": "python",
   "nbconvert_exporter": "python",
   "pygments_lexer": "ipython3",
   "version": "3.7.6"
  }
 },
 "nbformat": 4,
 "nbformat_minor": 2
}
